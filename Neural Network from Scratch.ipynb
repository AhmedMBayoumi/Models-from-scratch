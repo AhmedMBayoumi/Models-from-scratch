{
  "nbformat": 4,
  "nbformat_minor": 0,
  "metadata": {
    "colab": {
      "provenance": []
    },
    "kernelspec": {
      "name": "python3",
      "display_name": "Python 3"
    },
    "language_info": {
      "name": "python"
    }
  },
  "cells": [
    {
      "cell_type": "code",
      "execution_count": null,
      "metadata": {
        "id": "Z559GOmgEXmx"
      },
      "outputs": [],
      "source": [
        "import pandas as pd\n",
        "import numpy as np\n",
        "from keras.datasets import mnist"
      ]
    },
    {
      "cell_type": "code",
      "source": [
        "(X_train, y_train), (X_test, y_test) = mnist.load_data()"
      ],
      "metadata": {
        "id": "Dfi6NRWyIhG7"
      },
      "execution_count": null,
      "outputs": []
    },
    {
      "cell_type": "code",
      "source": [
        "print(X_train.shape)\n",
        "print(X_test.shape)\n",
        "print(y_train.shape)\n",
        "print(y_test.shape)"
      ],
      "metadata": {
        "colab": {
          "base_uri": "https://localhost:8080/"
        },
        "id": "6lfrvzFqIrFX",
        "outputId": "152a834b-0775-4381-e203-fcda5f7e631c"
      },
      "execution_count": null,
      "outputs": [
        {
          "output_type": "stream",
          "name": "stdout",
          "text": [
            "(60000, 28, 28)\n",
            "(10000, 28, 28)\n",
            "(60000,)\n",
            "(10000,)\n"
          ]
        }
      ]
    },
    {
      "cell_type": "code",
      "source": [
        "# Reshaping images from 2D to 1D\n",
        "X_train = X_train.reshape((X_train.shape[0], -1))\n",
        "X_test = X_test.reshape((X_test.shape[0], -1))\n",
        "\n",
        "# Normalize\n",
        "X_train = X_train / 255.0\n",
        "X_test = X_test / 255.0"
      ],
      "metadata": {
        "id": "Kyad-na3tYqu"
      },
      "execution_count": null,
      "outputs": []
    },
    {
      "cell_type": "code",
      "source": [
        "# One hot encoding\n",
        "num_classes = len(np.unique(y_train,axis=0))\n",
        "y_train = np.eye(num_classes)[y_train]\n",
        "y_test = np.eye(num_classes)[y_test]"
      ],
      "metadata": {
        "id": "iQeF2pmutiUk"
      },
      "execution_count": null,
      "outputs": []
    },
    {
      "cell_type": "code",
      "source": [
        "print(X_train.shape)\n",
        "print(X_test.shape)\n",
        "print(y_train.shape)\n",
        "print(y_test.shape)"
      ],
      "metadata": {
        "id": "yzf6doHlMaFt",
        "outputId": "c3b220f2-4bec-4e00-9ace-40f2ef179189",
        "colab": {
          "base_uri": "https://localhost:8080/"
        }
      },
      "execution_count": null,
      "outputs": [
        {
          "output_type": "stream",
          "name": "stdout",
          "text": [
            "(60000, 784)\n",
            "(10000, 784)\n",
            "(60000, 10)\n",
            "(10000, 10)\n"
          ]
        }
      ]
    },
    {
      "cell_type": "code",
      "source": [
        "def sigmoid(x):\n",
        "    return 1 / (1 + np.exp(-x))\n",
        "\n",
        "def sigmoid_derivative(x):\n",
        "    return x * (1 - x)"
      ],
      "metadata": {
        "id": "4YlwMtBrtmSG"
      },
      "execution_count": null,
      "outputs": []
    },
    {
      "cell_type": "code",
      "source": [
        "len(X_train[0])"
      ],
      "metadata": {
        "colab": {
          "base_uri": "https://localhost:8080/"
        },
        "id": "3L5mDIBU1tqS",
        "outputId": "c494c8b9-3a40-4a74-bd97-75eddce4f6e6"
      },
      "execution_count": null,
      "outputs": [
        {
          "output_type": "execute_result",
          "data": {
            "text/plain": [
              "784"
            ]
          },
          "metadata": {},
          "execution_count": 21
        }
      ]
    },
    {
      "cell_type": "code",
      "source": [
        "X_train.shape[1]"
      ],
      "metadata": {
        "colab": {
          "base_uri": "https://localhost:8080/"
        },
        "id": "OOSezWrEA61n",
        "outputId": "2b3b72c5-b2f6-4a12-e974-619bd2879229"
      },
      "execution_count": null,
      "outputs": [
        {
          "output_type": "execute_result",
          "data": {
            "text/plain": [
              "784"
            ]
          },
          "metadata": {},
          "execution_count": 22
        }
      ]
    },
    {
      "cell_type": "code",
      "source": [
        "input_size = X_train.shape[1]\n",
        "hidden_size = 64\n",
        "output_size = num_classes\n",
        "\n",
        "np.random.seed(42)\n",
        "input_weights = np.random.randn(input_size, hidden_size)\n",
        "output_weights = np.random.randn(hidden_size, output_size)\n",
        "bias_input = np.zeros((1, hidden_size))\n",
        "bias_output = np.zeros((1, output_size))\n",
        "\n",
        "learning_rate = 0.04\n",
        "epochs = 20\n",
        "\n",
        "for epoch in range(epochs):\n",
        "    for i in range(X_train.shape[0]):\n",
        "        # Forward pass\n",
        "        input_data = X_train[i:i+1]\n",
        "        target = y_train[i:i+1]\n",
        "\n",
        "        hidden_layer_input = np.dot(input_data, input_weights) + bias_input\n",
        "        hidden_layer_output = sigmoid(np.dot(input_data, input_weights) + bias_input)\n",
        "\n",
        "        output_layer_input = np.dot(hidden_layer_output, output_weights) + bias_output\n",
        "        output_layer_output = sigmoid(output_layer_input)\n",
        "\n",
        "        # Backpropagation\n",
        "        output_error = target - output_layer_output\n",
        "        output_delta = output_error * sigmoid_derivative(output_layer_output)\n",
        "\n",
        "        hidden_error = output_delta.dot(output_weights.T)\n",
        "        hidden_delta = hidden_error * sigmoid_derivative(hidden_layer_output)\n",
        "\n",
        "        # Update weights and biases\n",
        "        output_weights += hidden_layer_output.T.dot(output_delta) * learning_rate\n",
        "        bias_output += np.sum(output_delta, axis=0) * learning_rate\n",
        "        input_weights += input_data.T.dot(hidden_delta) * learning_rate\n",
        "        bias_input += np.sum(hidden_delta, axis=0) * learning_rate\n",
        "\n",
        "    # Calculate accuracy\n",
        "    hidden_layer_input = np.dot(X_test, input_weights) + bias_input\n",
        "    hidden_layer_output = sigmoid(hidden_layer_input)\n",
        "\n",
        "    output_layer_input = np.dot(hidden_layer_output, output_weights) + bias_output\n",
        "    output_layer_output = sigmoid(output_layer_input)\n",
        "\n",
        "    predictions = np.argmax(output_layer_output, axis=1)\n",
        "    accuracy = np.mean(predictions == np.argmax(y_test, axis=1))\n",
        "\n",
        "    print(f'Epoch {epoch+1}/{epochs}, Test Accuracy: {accuracy}')"
      ],
      "metadata": {
        "colab": {
          "base_uri": "https://localhost:8080/"
        },
        "id": "CYjz8zVgtPnc",
        "outputId": "180ea463-7d4c-4738-9fd5-ba57bc6a200e"
      },
      "execution_count": null,
      "outputs": [
        {
          "output_type": "stream",
          "name": "stdout",
          "text": [
            "Epoch 1/20, Test Accuracy: 0.6827\n",
            "Epoch 2/20, Test Accuracy: 0.7163\n",
            "Epoch 3/20, Test Accuracy: 0.7288\n",
            "Epoch 4/20, Test Accuracy: 0.7368\n",
            "Epoch 5/20, Test Accuracy: 0.8289\n",
            "Epoch 6/20, Test Accuracy: 0.8359\n",
            "Epoch 7/20, Test Accuracy: 0.8419\n",
            "Epoch 8/20, Test Accuracy: 0.8463\n",
            "Epoch 9/20, Test Accuracy: 0.9022\n",
            "Epoch 10/20, Test Accuracy: 0.9251\n",
            "Epoch 11/20, Test Accuracy: 0.9298\n",
            "Epoch 12/20, Test Accuracy: 0.9322\n",
            "Epoch 13/20, Test Accuracy: 0.9336\n",
            "Epoch 14/20, Test Accuracy: 0.936\n",
            "Epoch 15/20, Test Accuracy: 0.9376\n",
            "Epoch 16/20, Test Accuracy: 0.9389\n",
            "Epoch 17/20, Test Accuracy: 0.9407\n",
            "Epoch 18/20, Test Accuracy: 0.9422\n",
            "Epoch 19/20, Test Accuracy: 0.9433\n",
            "Epoch 20/20, Test Accuracy: 0.9445\n"
          ]
        }
      ]
    },
    {
      "cell_type": "code",
      "source": [
        "from sklearn.metrics import confusion_matrix\n",
        "conf_matrix = confusion_matrix(np.argmax(output_layer_output, axis=1),  np.argmax(y_test, axis=1))\n",
        "print(\"Confusion Matrix:\")\n",
        "print(conf_matrix)"
      ],
      "metadata": {
        "colab": {
          "base_uri": "https://localhost:8080/"
        },
        "id": "9RcXPzbmeRQr",
        "outputId": "255253c4-b184-4c1b-eedb-666d27d934fc"
      },
      "execution_count": null,
      "outputs": [
        {
          "output_type": "stream",
          "name": "stdout",
          "text": [
            "Confusion Matrix:\n",
            "[[ 963    0   14    4    1    7   14    4   18    9]\n",
            " [   0 1113    3    2    1    2    4    6    3    6]\n",
            " [   0    5  967   11    2    0    3   18    5    0]\n",
            " [   2    1   14  945    0   21    0    8   14    9]\n",
            " [   0    1    7    0  935    4    8    2    6   16]\n",
            " [   4    3    2   18    1  820   14    2   10    8]\n",
            " [   7    4    7    3   11   15  910    1   14    3]\n",
            " [   2    1   10   13    4    3    2  963   10    7]\n",
            " [   2    7    6    9    6   13    3    6  888   10]\n",
            " [   0    0    2    5   21    7    0   18    6  941]]\n"
          ]
        }
      ]
    }
  ]
}