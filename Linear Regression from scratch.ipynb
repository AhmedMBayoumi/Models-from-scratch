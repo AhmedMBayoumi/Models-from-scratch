{
  "nbformat": 4,
  "nbformat_minor": 0,
  "metadata": {
    "colab": {
      "provenance": []
    },
    "kernelspec": {
      "name": "python3",
      "display_name": "Python 3"
    },
    "language_info": {
      "name": "python"
    }
  },
  "cells": [
    {
      "cell_type": "code",
      "execution_count": 1,
      "metadata": {
        "id": "mx7tt0ZwNPAV"
      },
      "outputs": [],
      "source": [
        "import numpy as np\n",
        "import pandas as pd\n",
        "import matplotlib.pyplot as plt"
      ]
    },
    {
      "cell_type": "code",
      "source": [
        "# X and Y\n",
        "X_values = np.array([5, 10, 15, 20, 25,30]).reshape(-1, 1)\n",
        "X_b = np.c_[np.ones((len(X_values), 1)), X_values]\n",
        "Y_values = 25 * X_values + 10"
      ],
      "metadata": {
        "id": "dqoV2m8gPgAu"
      },
      "execution_count": 2,
      "outputs": []
    },
    {
      "cell_type": "code",
      "source": [
        "np.random.seed(42)\n",
        "noise = np.random.normal(loc=0, scale=50, size=Y_values.shape)\n",
        "Y_noisy = Y_values + noise\n",
        "\n",
        "W_noisy = np.linalg.inv(X_b.T.dot(X_b)).dot(X_b.T).dot(Y_noisy)\n",
        "print(\"(W):\", W_noisy[1])\n",
        "print(\"(b):\", W_noisy[0])"
      ],
      "metadata": {
        "colab": {
          "base_uri": "https://localhost:8080/"
        },
        "id": "Sx5Hv6gddsbH",
        "outputId": "bca43e47-0308-4470-be34-2d857fe08c5e"
      },
      "execution_count": 3,
      "outputs": [
        {
          "output_type": "stream",
          "name": "stdout",
          "text": [
            "(W): [24.12383387]\n",
            "(b): [42.50688988]\n"
          ]
        }
      ]
    },
    {
      "cell_type": "code",
      "source": [
        "W = np.linalg.inv(X_b.T.dot(X_b)).dot(X_b.T).dot(Y_values)\n",
        "print(\"(W):\", W[1])\n",
        "print(\"(b):\", W[0])\n",
        "W"
      ],
      "metadata": {
        "colab": {
          "base_uri": "https://localhost:8080/"
        },
        "id": "gDoA8qPQPtiA",
        "outputId": "3219343d-438c-4c37-fb12-74621f3d4499"
      },
      "execution_count": 4,
      "outputs": [
        {
          "output_type": "stream",
          "name": "stdout",
          "text": [
            "(W): [25.]\n",
            "(b): [10.]\n"
          ]
        },
        {
          "output_type": "execute_result",
          "data": {
            "text/plain": [
              "array([[10.],\n",
              "       [25.]])"
            ]
          },
          "metadata": {},
          "execution_count": 4
        }
      ]
    },
    {
      "cell_type": "code",
      "source": [
        "print(f\"Equation: Y = {round(W[1][0])}*X + {round(W[0][0])}\")"
      ],
      "metadata": {
        "colab": {
          "base_uri": "https://localhost:8080/"
        },
        "id": "rhPA7ggcRwGh",
        "outputId": "de5b66a3-f46a-4583-fa7a-222632f973ff"
      },
      "execution_count": 5,
      "outputs": [
        {
          "output_type": "stream",
          "name": "stdout",
          "text": [
            "Equation: Y = 25*X + 10\n"
          ]
        }
      ]
    },
    {
      "cell_type": "code",
      "source": [
        "X_values"
      ],
      "metadata": {
        "colab": {
          "base_uri": "https://localhost:8080/"
        },
        "id": "iGzXK6XKo_ya",
        "outputId": "68ccca66-390e-4e5d-bbb8-5b5cbed1409b"
      },
      "execution_count": 6,
      "outputs": [
        {
          "output_type": "execute_result",
          "data": {
            "text/plain": [
              "array([[ 5],\n",
              "       [10],\n",
              "       [15],\n",
              "       [20],\n",
              "       [25],\n",
              "       [30]])"
            ]
          },
          "metadata": {},
          "execution_count": 6
        }
      ]
    },
    {
      "cell_type": "code",
      "source": [
        "test_X = int(input(\"Enter an additional X value: \"))\n",
        "test_Y = W[1] * test_X + W[0][0]\n",
        "X_values = np.append(X_values, [[test_X]], axis=0)\n",
        "Y_values = np.append(Y_values, [[round(test_Y[0])]], axis=0)\n",
        "\n",
        "plt.scatter(X_values, Y_values, color='blue', label='Data Points')\n",
        "plt.plot(X_values, W[1] * X_values + W[0], color='red', label='Regression Line')\n",
        "\n",
        "plt.grid(True)\n",
        "plt.show()"
      ],
      "metadata": {
        "colab": {
          "base_uri": "https://localhost:8080/",
          "height": 448
        },
        "id": "B2o1hj9uUSse",
        "outputId": "f812ea60-dbc4-4ddb-e326-db2211f135ed"
      },
      "execution_count": 7,
      "outputs": [
        {
          "name": "stdout",
          "output_type": "stream",
          "text": [
            "Enter an additional X value: 25\n"
          ]
        },
        {
          "output_type": "display_data",
          "data": {
            "text/plain": [
              "<Figure size 640x480 with 1 Axes>"
            ],
            "image/png": "[encoded data removed]"
          },
          "metadata": {}
        }
      ]
    },
    {
      "cell_type": "code",
      "source": [
        "from google.colab import drive\n",
        "drive.mount('/content/drive')\n",
        "df = pd.read_csv('/content/drive/MyDrive/Iris.csv')\n",
        "df = df.drop('Id', axis=1)"
      ],
      "metadata": {
        "id": "-CysWeWweorC",
        "colab": {
          "base_uri": "https://localhost:8080/"
        },
        "outputId": "2232a84b-3e38-426b-b1fe-484ba9cd6ab3"
      },
      "execution_count": 12,
      "outputs": [
        {
          "output_type": "stream",
          "name": "stdout",
          "text": [
            "Drive already mounted at /content/drive; to attempt to forcibly remount, call drive.mount(\"/content/drive\", force_remount=True).\n"
          ]
        }
      ]
    },
    {
      "cell_type": "code",
      "source": [
        "df['Species'] = df['Species'].replace({'Iris-setosa': 'Class I'})\n",
        "df['Species'] = df['Species'].replace({'Iris-virginica': 'Other classes', 'Iris-versicolor': 'Other classes'})\n",
        "df['Species']"
      ],
      "metadata": {
        "id": "9cox7HYEii6t",
        "outputId": "46c887aa-0586-4bef-e514-057a85703041",
        "colab": {
          "base_uri": "https://localhost:8080/"
        }
      },
      "execution_count": 13,
      "outputs": [
        {
          "output_type": "execute_result",
          "data": {
            "text/plain": [
              "0            Class I\n",
              "1            Class I\n",
              "2            Class I\n",
              "3            Class I\n",
              "4            Class I\n",
              "           ...      \n",
              "145    Other classes\n",
              "146    Other classes\n",
              "147    Other classes\n",
              "148    Other classes\n",
              "149    Other classes\n",
              "Name: Species, Length: 150, dtype: object"
            ]
          },
          "metadata": {},
          "execution_count": 13
        }
      ]
    },
    {
      "cell_type": "code",
      "source": [
        "class_I_train = df[df['Species'] == 'Class I'].sample(frac=0.8, random_state=45)\n",
        "class_I_test = df[df['Species'] == 'Class I'].drop(class_I_train.index)\n",
        "\n",
        "class_II_train = df[df['Species'] == 'Other classes'].sample(frac=0.8, random_state=45)\n",
        "class_II_test = df[df['Species'] == 'Other classes'].drop(class_II_train.index)\n",
        "\n",
        "train_df = pd.concat([class_I_train, class_II_train])\n",
        "y_test= pd.concat([class_I_test, class_II_test])[\"Species\"]\n",
        "test_df = pd.concat([class_I_test, class_II_test]).drop(columns=[\"Species\"])\n",
        "y_test"
      ],
      "metadata": {
        "id": "4TNdGUkVjTHV",
        "outputId": "666dbd85-8041-46fd-cba2-37ae40aae8ab",
        "colab": {
          "base_uri": "https://localhost:8080/"
        }
      },
      "execution_count": 14,
      "outputs": [
        {
          "output_type": "execute_result",
          "data": {
            "text/plain": [
              "1            Class I\n",
              "3            Class I\n",
              "4            Class I\n",
              "11           Class I\n",
              "15           Class I\n",
              "21           Class I\n",
              "30           Class I\n",
              "31           Class I\n",
              "32           Class I\n",
              "35           Class I\n",
              "53     Other classes\n",
              "58     Other classes\n",
              "62     Other classes\n",
              "64     Other classes\n",
              "65     Other classes\n",
              "80     Other classes\n",
              "82     Other classes\n",
              "84     Other classes\n",
              "85     Other classes\n",
              "96     Other classes\n",
              "103    Other classes\n",
              "107    Other classes\n",
              "111    Other classes\n",
              "115    Other classes\n",
              "118    Other classes\n",
              "122    Other classes\n",
              "125    Other classes\n",
              "135    Other classes\n",
              "137    Other classes\n",
              "145    Other classes\n",
              "Name: Species, dtype: object"
            ]
          },
          "metadata": {},
          "execution_count": 14
        }
      ]
    },
    {
      "cell_type": "code",
      "source": [
        "X_train = train_df.drop('Species', axis=1).values\n",
        "X_b = np.c_[np.ones((len(X_train), 1)), X_train]\n",
        "y_train = np.where(train_df['Species'] == 'Class I', 1, -1)\n",
        "w = np.linalg.inv(X_b.T.dot(X_b)).dot(X_b.T).dot(y_train)"
      ],
      "metadata": {
        "id": "w8ZNdaftkVAN"
      },
      "execution_count": 15,
      "outputs": []
    },
    {
      "cell_type": "code",
      "source": [
        "w"
      ],
      "metadata": {
        "id": "Zduhybt0jicI",
        "outputId": "c33c40da-c840-4ffe-ca37-4cd6496a9dad",
        "colab": {
          "base_uri": "https://localhost:8080/"
        }
      },
      "execution_count": 16,
      "outputs": [
        {
          "output_type": "execute_result",
          "data": {
            "text/plain": [
              "array([-0.51422599,  0.04563509,  0.5458669 , -0.45478986, -0.04018945])"
            ]
          },
          "metadata": {},
          "execution_count": 16
        }
      ]
    },
    {
      "cell_type": "code",
      "source": [
        "w2=test_df.values[1]\n",
        "w2"
      ],
      "metadata": {
        "id": "PZsDVsZgjmC3",
        "outputId": "d60b2741-06d3-4b2b-9340-5ae673007924",
        "colab": {
          "base_uri": "https://localhost:8080/"
        }
      },
      "execution_count": 17,
      "outputs": [
        {
          "output_type": "execute_result",
          "data": {
            "text/plain": [
              "array([4.6, 3.1, 1.5, 0.2])"
            ]
          },
          "metadata": {},
          "execution_count": 17
        }
      ]
    },
    {
      "cell_type": "code",
      "source": [
        "prediction=w[-1]*w2[-1]+w[-2]*w2[-2]+w[-3]*w2[-3]+w[-4]*w2[-4]+w[0]\n",
        "if prediction>0:\n",
        "  print(\"Class I\")\n",
        "else:\n",
        "  print(\"Other Classes\")"
      ],
      "metadata": {
        "id": "B-C3tg9Oksta",
        "outputId": "e3407d6a-d8ac-419e-e524-077f6170a38c",
        "colab": {
          "base_uri": "https://localhost:8080/"
        }
      },
      "execution_count": 18,
      "outputs": [
        {
          "output_type": "stream",
          "name": "stdout",
          "text": [
            "Class I\n"
          ]
        }
      ]
    },
    {
      "cell_type": "code",
      "source": [
        "predictions = np.dot(X_b, w)\n",
        "train_predictions=np.where(predictions >= 0, 1, -1)"
      ],
      "metadata": {
        "id": "yt7rAEUHcDn6"
      },
      "execution_count": 19,
      "outputs": []
    },
    {
      "cell_type": "code",
      "source": [
        "train_accuracy = np.mean(train_predictions == y_train)\n",
        "print(\"Training Accuracy:\", train_accuracy*100,\"%\")"
      ],
      "metadata": {
        "id": "iyBQqRL2cN5x",
        "outputId": "cab44a5c-9918-4463-d21d-0ae15e9f3462",
        "colab": {
          "base_uri": "https://localhost:8080/"
        }
      },
      "execution_count": 20,
      "outputs": [
        {
          "output_type": "stream",
          "name": "stdout",
          "text": [
            "Training Accuracy: 100.0 %\n"
          ]
        }
      ]
    },
    {
      "cell_type": "code",
      "source": [],
      "metadata": {
        "id": "W2LRN_o_c81e"
      },
      "execution_count": 20,
      "outputs": []
    }
  ]
}